{
 "cells": [
  {
   "attachments": {},
   "cell_type": "markdown",
   "metadata": {},
   "source": [
    "# Tarea Semanal 1\n",
    "<img src=\"./logo_UTN.svg\" align=\"right\" width=\"150\" /> \n",
    "\n",
    "#### Por Elian Andrenacci"
   ]
  },
  {
   "cell_type": "markdown",
   "metadata": {},
   "source": [
    "### Enunciado\n",
    "\n",
    "<img src=\"./Enunciado.png\" width=\"auto\" /> "
   ]
  },
  {
   "attachments": {},
   "cell_type": "markdown",
   "metadata": {},
   "source": [
    "### Punto 1\n",
    "<img src=\"Punto1_a.jpg\">\n",
    "<img src=\"Diagrama polos y ceros.png\">"
   ]
  },
  {
   "attachments": {},
   "cell_type": "markdown",
   "metadata": {},
   "source": [
    "### Punto 2\n",
    "<h4>\n",
    "    Este es un filtro que su comportamiento depende de la relacion R2/R1. Este se comporta como un pasa todo si R2/R1 = 1, se comporta como un pasa altos si R2/R1 > 1 y como un elimina bajos si R2/R1 < 1. Por otro lado, la fase es independiente a R2/R1, frecuencias menores de wp es 180* y a medida que nos acercamos a wp comienza a disminuir y tiende a cero.\n",
    "</h4>"
   ]
  },
  {
   "attachments": {},
   "cell_type": "markdown",
   "metadata": {},
   "source": [
    "### Punto 3\n",
    "<img src=\"Punto3.jpg\">"
   ]
  },
  {
   "attachments": {},
   "cell_type": "markdown",
   "metadata": {},
   "source": [
    "### Punto 4\n",
    "<img src=\"Magnitud_y_fase.png\">"
   ]
  },
  {
   "attachments": {},
   "cell_type": "markdown",
   "metadata": {},
   "source": [
    "### Punto 5\n",
    "<img src=\"Respuesta_Filtro.png\">"
   ]
  }
 ],
 "metadata": {
  "kernelspec": {
   "display_name": "Python 3 (ipykernel)",
   "language": "python",
   "name": "python3"
  },
  "language_info": {
   "codemirror_mode": {
    "name": "ipython",
    "version": 3
   },
   "file_extension": ".py",
   "mimetype": "text/x-python",
   "name": "python",
   "nbconvert_exporter": "python",
   "pygments_lexer": "ipython3",
   "version": "3.10.6"
  }
 },
 "nbformat": 4,
 "nbformat_minor": 2
}
