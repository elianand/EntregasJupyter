{
 "cells": [
  {
   "attachments": {},
   "cell_type": "markdown",
   "metadata": {},
   "source": [
    "# Tarea Semanal 6\n",
    "\n",
    "<img src=\"./imagenes/logo_UTN.svg\"  width=\"300\" /> \n",
    "\n",
    "\n",
    "\n",
    "#### Por Elian Andrenacci"
   ]
  },
  {
   "cell_type": "markdown",
   "metadata": {},
   "source": [
    "## Enunciado\n",
    "\n",
    "#### Ejercicio 1 \n",
    "#### Para el siguiente cuadripolo se pide calcular los parámetros Z.\n",
    "<img src=\"./imagenes/Enunciado1.png\" width=\"auto\" /> \n",
    "\n",
    "#### Bonus:\n",
    "#### +1 💎 Simular en SPICE los parámetros de cuadripolo con la directiva .net\n",
    "#### +1 🎓 Verifique mediante el módulo de simulación simbólica SymPy la impedancia de entrada \n",
    "#### +1 🤯 Presentación en jupyter notebook\n",
    "\n",
    "\n",
    "#### Ejercicio 2\n",
    "#### Dado el siguiente circuito\n",
    "<img src=\"./imagenes/Enunciado2.png\" width=\"auto\" /> \n",
    "\n",
    "#### 👉 Obtener la transferencia de tensión fracción V subíndice o entre V subíndice i por método de cuadripolos (se sugiere referirse a alguno de los métodos de interconexión ya vistos). Ayuda: si C subíndice 2 igual fracción 4 entre 3 (se utilizó 1.333 para la simulación), los polos de la transferencia están ubicados sobre una circunferencia de radio unitario\n",
    "#### 👉 Construya la matriz de admitancia indefinida (MAI) del circuito.\n",
    "#### 👉 Compute la transferencia de tensión con la MAI.\n",
    "#### Bonus:\n",
    "#### +1 💎 Simular en SPICE  para verificar la transferencia.\n",
    "#### +1 🤯 Compute la impedancia de entrada con la MAI.\n",
    "#### +1 🤯 Presentación en jupyter notebook"
   ]
  },
  {
   "cell_type": "markdown",
   "metadata": {},
   "source": [
    "## Ejercicio 1\n",
    "\n",
    "#### Hice el desarrollo de los parametros Z a partir de la definicion y las ecuaciones. Anteriormente habia intentado plantear una coneccion de cuadripolos T en cascada pero no lo logre.\n",
    "\n",
    "<img src=\"./imagenes/Ej1-Des1.jpeg\"/>\n",
    "<img src=\"./imagenes/Ej1-Des2.jpeg\"/>\n",
    "\n",
    "#### Parametros Z calculados con LTSpice\n",
    "#### Todos los parametros tiene una magnitud de 1/3 Ohm, Z11 = Z22 = 1/3 y Z12 = Z21 = -1/3\n",
    "<img src=\"./imagenes/Ej1-SpiceZParam.png\"/>\n"
   ]
  },
  {
   "attachments": {},
   "cell_type": "markdown",
   "metadata": {},
   "source": [
    "## Ejercicio 2\n",
    "<img src=\"./imagenes/Ej2-1.jpeg\"/>\n",
    "<img src=\"./imagenes/Ej2-2.jpeg\"/>\n",
    "\n",
    "#### \n",
    "#### Como se puede notar es un filtro butterworth con frecuencia de corte en w = 1, esta tiene tres ceros en la circunferencia unitaria.\n",
    "#### Analizando con Ltspice llegamos a lo mismo\n",
    "\n",
    "<img src=\"./imagenes/Ej2-Transferencia.png\"/>\n",
    "\n",
    "#### \n",
    "<img src=\"./imagenes/Ej2-3.jpeg\"/>\n",
    "<img src=\"./imagenes/Ej2-4.jpeg\"/>"
   ]
  },
  {
   "cell_type": "code",
   "execution_count": null,
   "metadata": {},
   "outputs": [],
   "source": [
    "import sympy as sp\n",
    "\n",
    "from pytc2.cuadripolos import calc_MAI_impedance_ij, calc_MAI_vtransf_ij_mn, calc_MAI_ztransf_ij_mn\n",
    "from pytc2.general import print_latex\n",
    "\n",
    "\n",
    "'''    \n",
    "+ Esquema del circuito\n",
    "\n",
    "            \n",
    "    0-----L1----2---L3--+-----3\n",
    "                |       |\n",
    "                C2      R\n",
    "                |       |\n",
    "    1-----------+-------+-----1\n",
    "    \n",
    "'''    \n",
    "\n",
    "S = sp.symbols('S', complex=True)\n",
    "L1, L3, C2, R = sp.symbols('L1 L3 C2 R', real=True, positive=True)\n",
    "\n",
    "v_L1 = 1.5\n",
    "v_L3 = 0.5\n",
    "v_C2 = 3/4\n",
    "v_R = 1\n",
    "# Armo la MAI\n",
    "\n",
    "#               Nodos:       0           1                2                  3\n",
    "\n",
    "Ymai = sp.Matrix([  \n",
    "                    [   1/(S*L1),       0,          -1/(S*L1),               0          ],\n",
    "                    [       0,       S*C2+1/R,         -S*C2,              -1/R         ],\n",
    "                    [   -1/(S*L1),    -S*C2,     1/(S*(L1+L3))+S*C2,     -1/(S*L3)      ],\n",
    "                    [       0,        -1/R,         -1/(S*L3),          1/(S*L3)+1/R    ]\n",
    "                 ])\n",
    "\n",
    "con_detalles = False\n",
    "#con_detalles = True\n",
    "\n",
    "\n",
    "# Calculo la Z en el puerto de entrada a partir de la MAI\n",
    "Zmai = sp.simplify(calc_MAI_impedance_ij(Ymai, 0, 1, verbose=con_detalles))\n",
    "ZmaiVal = sp.simplify(Zmai.subs(L1, v_L1))\n",
    "ZmaiVal = sp.simplify(ZmaiVal.subs(L3, v_L3))\n",
    "ZmaiVal = sp.simplify(ZmaiVal.subs(C2, v_C2))\n",
    "ZmaiVal = sp.simplify(ZmaiVal.subs(R, v_R))\n",
    "print('Impedancia de entrada:')\n",
    "print_latex( r'Z_{{ {:d}{:d} }} = '.format(0,1) +  sp.latex(Zmai) )\n",
    "print_latex( r'Z_{{ {:d}{:d} }} = '.format(0,1) +  sp.latex(ZmaiVal) )\n",
    "\n",
    "\n",
    "\n",
    "# Calculo la transferencia de tension a partir de la MAI\n",
    "Vmai = calc_MAI_vtransf_ij_mn(Ymai, 3, 1, 0, 1, verbose=con_detalles)\n",
    "VmaiVal = sp.simplify(Vmai.subs(L1, v_L1))\n",
    "VmaiVal = sp.simplify(VmaiVal.subs(L3, v_L3))\n",
    "VmaiVal = sp.simplify(VmaiVal.subs(C2, v_C2))\n",
    "VmaiVal = sp.simplify(VmaiVal.subs(R, v_R))\n",
    "print('Transferencia de tensión:')\n",
    "print_latex( r'Z_{{ {:d}{:d} }} = '.format(0,1) +  sp.latex(Vmai) )\n",
    "print_latex( r'Z_{{ {:d}{:d} }} = '.format(0,1) +  sp.latex(VmaiVal) )\n",
    "\n",
    "\n"
   ]
  },
  {
   "attachments": {},
   "cell_type": "markdown",
   "metadata": {},
   "source": [
    "#### Utilizando la MAI anterior obtenemos los siguientes resultados, los cuales son erroneos, no coinciden con los calculados a mano. A continuacion se muestra la impedancia de entrada y la transferencia\n",
    "\n",
    "<img src=\"./imagenes/Ej2-MAI_Imped.png\"/>\n",
    "<img src=\"./imagenes/Ej2-MAI_Transf.png\"/>"
   ]
  }
 ],
 "metadata": {
  "kernelspec": {
   "display_name": "Python 3 (ipykernel)",
   "language": "python",
   "name": "python3"
  },
  "language_info": {
   "codemirror_mode": {
    "name": "ipython",
    "version": 3
   },
   "file_extension": ".py",
   "mimetype": "text/x-python",
   "name": "python",
   "nbconvert_exporter": "python",
   "pygments_lexer": "ipython3",
   "version": "3.10.6"
  }
 },
 "nbformat": 4,
 "nbformat_minor": 2
}
