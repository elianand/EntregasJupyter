{
 "cells": [
  {
   "attachments": {},
   "cell_type": "markdown",
   "metadata": {},
   "source": [
    "# Tarea Semanal 2\n",
    "<img src=\"./logo_utn.svg\" align=\"right\" width=\"200\" style=\"margin-right: 100px\"/> \n",
    "\n",
    "#### Por Elian Andrenacci"
   ]
  },
  {
   "attachments": {},
   "cell_type": "markdown",
   "metadata": {},
   "source": [
    "### Enunciado\n",
    "\n",
    "<img src=\"./diagrama_enunciado.png\" width=\"auto\" /> \n",
    "<img src=\"./puntos_enunciado.png\" width=\"auto\" /> "
   ]
  },
  {
   "attachments": {},
   "cell_type": "markdown",
   "metadata": {},
   "source": [
    "### Resolucion\n",
    "<img src=\"./imagen_1.jpeg\" width=\"auto\">\n",
    "<img src=\"./imagen_2.jpeg\" width=\"auto\">\n",
    "<img src=\"./imagen_3.jpeg\" width=\"auto\">"
   ]
  },
  {
   "attachments": {},
   "cell_type": "markdown",
   "metadata": {},
   "source": [
    "### Simulacion\n",
    "\n",
    "<img src=\"./filtro_pasabajos.png\" width=\"auto\">"
   ]
  }
 ],
 "metadata": {
  "kernelspec": {
   "display_name": "Python 3 (ipykernel)",
   "language": "python",
   "name": "python3"
  },
  "language_info": {
   "codemirror_mode": {
    "name": "ipython",
    "version": 3
   },
   "file_extension": ".py",
   "mimetype": "text/x-python",
   "name": "python",
   "nbconvert_exporter": "python",
   "pygments_lexer": "ipython3",
   "version": "3.10.6"
  }
 },
 "nbformat": 4,
 "nbformat_minor": 2
}
